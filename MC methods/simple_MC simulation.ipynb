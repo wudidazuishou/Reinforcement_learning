{
 "cells": [
  {
   "cell_type": "markdown",
   "metadata": {},
   "source": [
    "This Notebook is to perform a MC simulation for a starting state"
   ]
  },
  {
   "cell_type": "code",
   "execution_count": 66,
   "metadata": {},
   "outputs": [],
   "source": [
    "import numpy as np\n",
    "import sys\n",
    "from envs.blackjack import BlackjackEnv"
   ]
  },
  {
   "cell_type": "code",
   "execution_count": 67,
   "metadata": {},
   "outputs": [],
   "source": [
    "env=BlackjackEnv()  ## Initlize the Blackjack environment"
   ]
  },
  {
   "cell_type": "code",
   "execution_count": 68,
   "metadata": {},
   "outputs": [],
   "source": [
    "def print_observation(observation):\n",
    "    score, dealer_score, usable_ace = observation\n",
    "    print(\"Player Score: {} (Usable Ace: {}), Dealer Score: {}\".format(\n",
    "          score, usable_ace, dealer_score))\n"
   ]
  },
  {
   "cell_type": "code",
   "execution_count": 69,
   "metadata": {},
   "outputs": [],
   "source": [
    "def policy(score):\n",
    "    return 1 if score<20 else 0"
   ]
  },
  {
   "cell_type": "code",
   "execution_count": 75,
   "metadata": {},
   "outputs": [
    {
     "name": "stdout",
     "output_type": "stream",
     "text": [
      "Player Score: 13 (Usable Ace: False), Dealer Score: 10\n",
      "Player Score: 23 (Usable Ace: False), Dealer Score: 10\n",
      "-1\n",
      "Player Score: 15 (Usable Ace: False), Dealer Score: 10\n",
      "Player Score: 21 (Usable Ace: False), Dealer Score: 10\n",
      "Player Score: 21 (Usable Ace: False), Dealer Score: 10\n",
      "1\n"
     ]
    }
   ],
   "source": [
    "for num_episodes in range(2): ## for example, we just run 2 episodes \n",
    "    observation=env.reset()\n",
    "\n",
    "    for t in range(100):\n",
    "        print_observation(observation)\n",
    "        action=policy(observation[0])\n",
    "        observation, reward, done, _ =env.step(action)\n",
    "        if done:\n",
    "            print_observation(observation)\n",
    "            print(reward)\n",
    "            break\n"
   ]
  }
 ],
 "metadata": {
  "kernelspec": {
   "display_name": "base",
   "language": "python",
   "name": "python3"
  },
  "language_info": {
   "codemirror_mode": {
    "name": "ipython",
    "version": 3
   },
   "file_extension": ".py",
   "mimetype": "text/x-python",
   "name": "python",
   "nbconvert_exporter": "python",
   "pygments_lexer": "ipython3",
   "version": "3.10.9"
  }
 },
 "nbformat": 4,
 "nbformat_minor": 2
}
